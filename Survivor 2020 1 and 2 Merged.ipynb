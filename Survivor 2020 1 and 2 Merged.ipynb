{
 "cells": [
  {
   "cell_type": "code",
   "execution_count": 1,
   "metadata": {},
   "outputs": [],
   "source": [
    "from ortools.linear_solver import pywraplp\n",
    "import math\n",
    "\n",
    "solver = pywraplp.Solver('SolveIntegerProblem', pywraplp.Solver.CBC_MIXED_INTEGER_PROGRAMMING)\n",
    "objective = solver.Objective()\n",
    "objective.SetMaximization()"
   ]
  },
  {
   "cell_type": "code",
   "execution_count": 2,
   "metadata": {},
   "outputs": [],
   "source": [
    "# Never pick a game less likely than this\n",
    "probability_threshold = 0.5\n",
    "\n",
    "# Only look this far ahead\n",
    "# On average contest goes to week 14.5\n",
    "final_week_idx = 14"
   ]
  },
  {
   "cell_type": "code",
   "execution_count": 3,
   "metadata": {},
   "outputs": [],
   "source": [
    "picks_made = [\n",
    "    ['Chiefs',  'Bears', 'Colts', 'Rams', 'Ravens', 'Dolphins', 'Chargers'],\n",
    "    ['Patriots', 'Titans', 'Steelers', 'Ravens', 'Cowboys', 'Colts', 'Bills'],\n",
    "    # NOTE: These two histories are faked for survivor 2 - just \"picked\" the worst teams. \n",
    "    # Need to fix this by putting in a signal value for no pick / blank - don't want to take\n",
    "    # teams off the board or count unnecessary picks against\n",
    "    ['Jaguars', 'Jets', 'Washington', 'Giants', 'Cowboys', 'Bengals', 'Saints'],\n",
    "    ['Jaguars', 'Jets', 'Washington', 'Giants', 'Cowboys', 'Bengals', 'Chiefs']\n",
    "\n",
    "]"
   ]
  },
  {
   "cell_type": "code",
   "execution_count": 4,
   "metadata": {},
   "outputs": [],
   "source": [
    "import csv\n",
    "from collections import defaultdict\n",
    "\n",
    "wins_by_team_and_week = defaultdict(lambda: [])\n",
    "\n",
    "# NOTE: update these each week before running\n",
    "living_picks = 4\n",
    "current_week_idx = 7 # 0-based\n",
    "\n",
    "for pick_idx in range(0, living_picks):\n",
    "    pick_name = str(pick_idx + 1)\n",
    "    \n",
    "    wins_by_week = [[] for i in range(0, 17)]\n",
    "    losses_by_week = [[] for i in range(0, 17)]\n",
    "    wins_by_team = defaultdict(lambda: [])\n",
    "    losses_by_team = defaultdict(lambda: [])\n",
    "    \n",
    "    with open('win_probabilities.csv', 'r') as csvfile:\n",
    "        reader = csv.reader(csvfile)\n",
    "        for row in reader:\n",
    "            week_idx, home_team, home_win_probability, away_team, away_win_probability = row\n",
    "            week_idx = int(week_idx)            \n",
    "            if week_idx > final_week_idx: # zero-based\n",
    "                continue\n",
    "            week_name = str(week_idx + 1)\n",
    "            \n",
    "            ## create variables for wins and losses\n",
    "            var_name_format = 'W{:02d} E{:d} {:s} {:s} {:s} ({:f})'\n",
    "\n",
    "            base_probability = float(home_win_probability)\n",
    "            \n",
    "            # regress p to coin flip based on current week (more uncertainty the farther we are from now)\n",
    "            # this inflates win probablity if weeks_out is negative but those games are already decided so who cares\n",
    "            regression_coeff = 0.8\n",
    "            weeks_out = week_idx - current_week_idx\n",
    "            p_ratio = base_probability / (1 - base_probability)\n",
    "            regressed_p_ratio = (p_ratio - 1) * (regression_coeff ** weeks_out) + 1\n",
    "            regressed_probability = regressed_p_ratio / (regressed_p_ratio + 1)\n",
    "            p = regressed_probability\n",
    "                        \n",
    "            home_win = solver.IntVar(0, 1, var_name_format.format(week_idx + 1, pick_idx + 1, home_team, 'defeats', away_team, p))\n",
    "            home_loss = solver.IntVar(0, 1, var_name_format.format(week_idx + 1, pick_idx + 1, home_team, 'loses to', away_team, 1.0 - p))\n",
    "            away_win = solver.IntVar(0, 1, var_name_format.format(week_idx + 1, pick_idx + 1, away_team, 'defeats', home_team, 1.0 - p))\n",
    "            away_loss = solver.IntVar(0, 1, var_name_format.format(week_idx + 1, pick_idx + 1, away_team, 'loses to', home_team, p))\n",
    "\n",
    "\n",
    "            ## add win / loss constraints\n",
    "            ## TODO I think there might be better syntax for this\n",
    "            home_team_defeats_away_team = solver.Constraint(0,0)\n",
    "            home_team_defeats_away_team.SetCoefficient(home_win, 1)\n",
    "            home_team_defeats_away_team.SetCoefficient(away_loss, -1)\n",
    "            away_team_defeats_home_team = solver.Constraint(0,0)\n",
    "            away_team_defeats_home_team.SetCoefficient(home_loss, -1)\n",
    "            away_team_defeats_home_team.SetCoefficient(away_win, 1)\n",
    "\n",
    "            ## add value weights for win / loss picks\n",
    "            ## this also implicitly prevents different entries from picking aginst themselves\n",
    "            home_objective_score = -100 if p < probability_threshold else math.log(p) + 10\n",
    "            away_objective_score = -100 if (1.0 - p) < probability_threshold else math.log(1.0 - p) + 10\n",
    "\n",
    "            objective.SetCoefficient(home_win, home_objective_score)\n",
    "            objective.SetCoefficient(away_win, away_objective_score)\n",
    "\n",
    "            ## constrain win if already picked\n",
    "            try:\n",
    "                pick_already_made = picks_made[pick_idx][week_idx] # may be nil\n",
    "                if pick_already_made == home_team:\n",
    "                    solver.Constraint(1,1).SetCoefficient(home_win, 1)\n",
    "                if pick_already_made == away_team:\n",
    "                    solver.Constraint(1,1).SetCoefficient(away_win, 1)\n",
    "            except IndexError:\n",
    "                pass\n",
    "\n",
    "\n",
    "            ## index variables for other constraints\n",
    "            wins_by_week[week_idx].append(home_win)\n",
    "            wins_by_week[week_idx].append(away_win)\n",
    "            losses_by_week[week_idx].append(home_loss)\n",
    "            losses_by_week[week_idx].append(away_loss)\n",
    "            wins_by_team[home_team].append(home_win)\n",
    "            wins_by_team[away_team].append(away_win)\n",
    "            losses_by_team[home_team].append(home_loss)\n",
    "            losses_by_team[away_team].append(away_loss)\n",
    "            wins_by_team_and_week[home_team + '-' + week_name].append(home_win)\n",
    "            wins_by_team_and_week[away_team + '-' + week_name].append(away_win)\n",
    "                    \n",
    "    ## Add additional constraints\n",
    "\n",
    "    ## One win per week\n",
    "    for week in wins_by_week:\n",
    "        one_win_per_week = solver.Constraint(0, 1)\n",
    "        for win in week:\n",
    "            one_win_per_week.SetCoefficient(win, 1)\n",
    "\n",
    "    ## One loss per week (TODO DRY out)\n",
    "    for week in losses_by_week:\n",
    "        one_loss_per_week = solver.Constraint(0, 1)\n",
    "        for loss in week:\n",
    "            one_loss_per_week.SetCoefficient(loss, 1)\n",
    "\n",
    "    ## At most one win per team (whole season)\n",
    "    for team_wins in wins_by_team.values():\n",
    "        one_win_per_team = solver.Constraint(0, 1)\n",
    "        for win in team_wins:\n",
    "            one_win_per_team.SetCoefficient(win, 1)\n",
    "\n",
    "    ## At most 3 losses per team (whole season)\n",
    "    for team_losses in losses_by_team.values():\n",
    "        three_losses_per_team = solver.Constraint(0, 3)\n",
    "        for loss in team_losses:\n",
    "            three_losses_per_team.SetCoefficient(loss, 1)\n",
    "            \n",
    "## Pick each team only once across all future entries\n",
    "for key, team_and_week in wins_by_team_and_week.items():\n",
    "    week_idx = int(key.split('-')[1]) - 1 # 0-based\n",
    "    if week_idx >= current_week_idx:    \n",
    "        pick_constraint = solver.Constraint(0, 1)\n",
    "        for win in team_and_week:\n",
    "            pick_constraint.SetCoefficient(win, 1)\n"
   ]
  },
  {
   "cell_type": "code",
   "execution_count": 5,
   "metadata": {},
   "outputs": [
    {
     "name": "stdout",
     "output_type": "stream",
     "text": [
      "Starting solver...\n",
      "Done solving!\n"
     ]
    }
   ],
   "source": [
    "## Solve it!\n",
    "print(\"Starting solver...\")\n",
    "result_status = solver.Solve()\n",
    "print(\"Done solving!\")"
   ]
  },
  {
   "cell_type": "code",
   "execution_count": 6,
   "metadata": {},
   "outputs": [
    {
     "data": {
      "text/plain": [
       "-946.4102903178016"
      ]
     },
     "execution_count": 6,
     "metadata": {},
     "output_type": "execute_result"
    }
   ],
   "source": [
    "solver.Objective().Value()"
   ]
  },
  {
   "cell_type": "code",
   "execution_count": 7,
   "metadata": {
    "scrolled": true
   },
   "outputs": [
    {
     "data": {
      "text/plain": [
       "0"
      ]
     },
     "execution_count": 7,
     "metadata": {},
     "output_type": "execute_result"
    }
   ],
   "source": [
    "result_status"
   ]
  },
  {
   "cell_type": "code",
   "execution_count": 8,
   "metadata": {},
   "outputs": [],
   "source": [
    "wins = [item for sublist in wins_by_team_and_week.values() for item in sublist]"
   ]
  },
  {
   "cell_type": "code",
   "execution_count": 9,
   "metadata": {},
   "outputs": [
    {
     "data": {
      "text/plain": [
       "60"
      ]
     },
     "execution_count": 9,
     "metadata": {},
     "output_type": "execute_result"
    }
   ],
   "source": [
    "picks = list(filter(lambda win: win.solution_value() == 1.0, wins))\n",
    "len(picks)"
   ]
  },
  {
   "cell_type": "code",
   "execution_count": 10,
   "metadata": {
    "scrolled": true
   },
   "outputs": [
    {
     "data": {
      "text/plain": [
       "[W01 E1 Chiefs defeats Texans (-0.848238),\n",
       " W01 E2 Patriots defeats Dolphins (-1.218432),\n",
       " W01 E3 Jaguars defeats Colts (0.164280),\n",
       " W01 E4 Jaguars defeats Colts (0.164280),\n",
       " W02 E1 Bears defeats Giants (-2.476585),\n",
       " W02 E2 Titans defeats Jaguars (-2.107934),\n",
       " W02 E3 Jets defeats 49ers (0.213648),\n",
       " W02 E4 Jets defeats 49ers (0.213648),\n",
       " W03 E1 Colts defeats Jets (3.904139),\n",
       " W03 E2 Steelers defeats Texans (7.405384),\n",
       " W03 E3 Washington defeats Browns (-2.131637),\n",
       " W03 E4 Washington defeats Browns (-2.131637),\n",
       " W04 E1 Rams defeats Giants (7.617928),\n",
       " W04 E2 Ravens defeats Washington (0.892752),\n",
       " W04 E3 Giants defeats Rams (-6.617928),\n",
       " W04 E4 Giants defeats Rams (-6.617928),\n",
       " W05 E1 Ravens defeats Bengals (2.237574),\n",
       " W05 E2 Cowboys defeats Giants (1.672922),\n",
       " W05 E3 Cowboys defeats Giants (1.672922),\n",
       " W05 E4 Cowboys defeats Giants (1.672922),\n",
       " W06 E1 Dolphins defeats Jets (1.105925),\n",
       " W06 E2 Colts defeats Bengals (1.043478),\n",
       " W06 E3 Bengals defeats Colts (-0.043478),\n",
       " W06 E4 Bengals defeats Colts (-0.043478),\n",
       " W07 E1 Chargers defeats Jaguars (0.857143),\n",
       " W07 E2 Bills defeats Jets (0.767857),\n",
       " W07 E3 Saints defeats Panthers (0.873563),\n",
       " W07 E4 Chiefs defeats Broncos (0.747748),\n",
       " W08 E1 Eagles defeats Cowboys (0.820000),\n",
       " W08 E2 Chiefs defeats Jets (0.920000),\n",
       " W08 E3 Titans defeats Bengals (0.760000),\n",
       " W08 E4 Buccaneers defeats Giants (0.870000),\n",
       " W09 E1 Steelers defeats Cowboys (0.847418),\n",
       " W09 E2 Texans defeats Jaguars (0.742152),\n",
       " W09 E3 Patriots defeats Jets (0.673913),\n",
       " W09 E4 Cardinals defeats Dolphins (0.694946),\n",
       " W10 E1 Buccaneers defeats Panthers (0.766112),\n",
       " W10 E2 Browns defeats Texans (0.626287),\n",
       " W10 E3 Ravens defeats Patriots (0.632353),\n",
       " W10 E4 Packers defeats Jaguars (0.710141),\n",
       " W11 E1 Saints defeats Falcons (0.578389),\n",
       " W11 E2 Vikings defeats Cowboys (0.582062),\n",
       " W11 E3 Steelers defeats Jaguars (0.822397),\n",
       " W11 E4 Chargers defeats Jets (0.599559),\n",
       " W12 E1 Browns defeats Jaguars (0.721465),\n",
       " W12 E2 Saints defeats Broncos (0.551782),\n",
       " W12 E3 Bills defeats Chargers (0.571530),\n",
       " W12 E4 Seahawks defeats Eagles (0.568701),\n",
       " W13 E1 Vikings defeats Jaguars (0.571695),\n",
       " W13 E2 Raiders defeats Jets (0.595890),\n",
       " W13 E3 Seahawks defeats Giants (0.579487),\n",
       " W13 E4 Ravens defeats Cowboys (0.583833),\n",
       " W14 E1 Packers defeats Lions (0.564253),\n",
       " W14 E2 Cardinals defeats Giants (0.585396),\n",
       " W14 E3 Chiefs defeats Dolphins (0.649788),\n",
       " W14 E4 Titans defeats Jaguars (0.726794),\n",
       " W15 E1 Seahawks defeats Washington (0.592566),\n",
       " W15 E2 Buccaneers defeats Falcons (0.592566),\n",
       " W15 E3 49ers defeats Cowboys (0.612285),\n",
       " W15 E4 Steelers defeats Bengals (0.612285)]"
      ]
     },
     "execution_count": 10,
     "metadata": {},
     "output_type": "execute_result"
    }
   ],
   "source": [
    "sorted(picks, key=lambda p: str(p))"
   ]
  },
  {
   "cell_type": "code",
   "execution_count": null,
   "metadata": {},
   "outputs": [],
   "source": []
  },
  {
   "cell_type": "code",
   "execution_count": null,
   "metadata": {},
   "outputs": [],
   "source": []
  }
 ],
 "metadata": {
  "kernelspec": {
   "display_name": "Python 3",
   "language": "python",
   "name": "python3"
  },
  "language_info": {
   "codemirror_mode": {
    "name": "ipython",
    "version": 3
   },
   "file_extension": ".py",
   "mimetype": "text/x-python",
   "name": "python",
   "nbconvert_exporter": "python",
   "pygments_lexer": "ipython3",
   "version": "3.8.5"
  }
 },
 "nbformat": 4,
 "nbformat_minor": 2
}
